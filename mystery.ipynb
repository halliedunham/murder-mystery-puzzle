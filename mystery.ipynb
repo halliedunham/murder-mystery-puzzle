{
 "cells": [
  {
   "cell_type": "code",
   "execution_count": null,
   "metadata": {},
   "outputs": [],
   "source": []
  },
  {
   "cell_type": "code",
   "execution_count": 1,
   "metadata": {},
   "outputs": [],
   "source": [
    "from itertools import permutations\n",
    "import numpy as np\n",
    "from enum import Enum\n",
    "from sortedcontainers import SortedList"
   ]
  },
  {
   "cell_type": "code",
   "execution_count": 14,
   "metadata": {},
   "outputs": [],
   "source": [
    "class StartType(Enum):\n",
    "    POETRY = 0\n",
    "    START_OF_SENTENCE = 1\n",
    "    MID_SENTENCE = 2\n",
    "    AMBIGUOUS = 3\n",
    "\n",
    "class EndType(Enum):\n",
    "    NO_END = 0\n",
    "    MAYBE_END = 1\n",
    "    LIKELY_END = 2\n",
    "\n",
    "class PictureType(Enum):\n",
    "    UNCATEGORIZED = 0\n",
    "    CLOCK = 1\n",
    "    MAP = 2\n",
    "    PERSON_W_CARD = 3\n",
    "    BW_ETCHING = 4\n",
    "    WHITE_LINES = 5\n",
    "    BLACK_LINES = 6\n",
    "    PERSON_WEAPON = 7\n",
    "    STAIN_GLASS = 8\n",
    "    GALLERIE = 9\n",
    "    SCULPTURE = 10"
   ]
  },
  {
   "cell_type": "code",
   "execution_count": 3,
   "metadata": {},
   "outputs": [],
   "source": [
    "class Card:\n",
    "    def __init__(self, number):#, most_likely_to_follow={}, less_likely_to_follow={}):\n",
    "        self.number = number\n",
    "        self.picture_type = PictureType.UNCATEGORIZED\n",
    "        self.next_card_likelihood_scores = np.zeros(100)\n",
    "        self.start_type = StartType.MID_SENTENCE\n",
    "        self.end_completes_sentence = EndType.NO_END\n",
    "        self.poetry = False\n",
    "        self.time = False\n",
    "        self.they_them = False\n",
    "        self.bible_verse = False\n",
    "        self.mandy = False\n",
    "        self.moles = False\n",
    "        # self.most_likely_to_follow = most_likely_to_follow\n",
    "        # self.less_likely_to_follow = less_likely_to_follow\n",
    "        # self.has_poem = False\n",
    "    # def push_most_likely_to_follow(self, card_set):\n",
    "    #     self.most_likely_to_follow.update(card_set)\n",
    "    # def push_less_likely_to_follow(self, card_set):\n",
    "    #     self.less_likely_to_follow.update(card_set)\n",
    "    def set_likelihood_scores(self, card_nums, score):\n",
    "        self.next_card_likelihood_scores[card_nums] = score"
   ]
  },
  {
   "cell_type": "code",
   "execution_count": 4,
   "metadata": {},
   "outputs": [],
   "source": [
    "class Order:\n",
    "    def __init__(self, order, likelihood=0):\n",
    "        self.order = order\n",
    "        self.likelihood = likelihood"
   ]
  },
  {
   "cell_type": "code",
   "execution_count": 17,
   "metadata": {},
   "outputs": [],
   "source": [
    "class Person:\n",
    "    def __init__(self, name, mentions=[], murderer=False, murdered=False):\n",
    "        self.name = name\n",
    "        self.murderer = murderer\n",
    "        self.murdered = murdered\n",
    "        self.mentions = mentions\n",
    "    def add_mention(self, card_nums):\n",
    "        self.mentions.update(card_nums)"
   ]
  },
  {
   "cell_type": "code",
   "execution_count": 5,
   "metadata": {},
   "outputs": [],
   "source": [
    "# def ordering_likelihood(order, cards):\n",
    "#     likelihood_score = 0\n",
    "#     for i in range(len(order)-1):\n",
    "#         card_num = order[i]\n",
    "#         if order[i+1] in cards[card_num].most_likely_to_follow:\n",
    "#             likelihood_score += 2\n",
    "#         elif order[i+1] in cards[card_num].less_likely_to_follow:\n",
    "#             likelihood_score += 1\n",
    "#     return likelihood_score\n",
    "\n",
    "# def ordering_likelihood_faster(order, cards):\n",
    "#     likelihood_score = 0\n",
    "#     for i in range(len(order)-1):\n",
    "#         card_num = order[i]\n",
    "#         if order[i+1] in cards[card_num].most_likely_to_follow:\n",
    "#             likelihood_score += 2\n",
    "#         elif order[i+1] in cards[card_num].less_likely_to_follow:\n",
    "#             likelihood_score += 1\n",
    "#         else:\n",
    "#             return 0\n",
    "#     return likelihood_score\n",
    "        "
   ]
  },
  {
   "cell_type": "code",
   "execution_count": 6,
   "metadata": {},
   "outputs": [],
   "source": [
    "def ordering_likelihood(order, cards):\n",
    "    likelihood_score = 0\n",
    "    for i in range(len(order)-1):\n",
    "        likelihood_score += cards[order[i]].next_card_likelihood_scores[order[i+1]]\n",
    "    return likelihood_score\n",
    "\n",
    "def ordering_likelihood_faster(order, cards):\n",
    "    likelihood_metric = 0\n",
    "    for i in range(len(order)-1):\n",
    "        next_score = cards[order[i]].next_card_likelihood_scores[order[i+1]]\n",
    "        if next_score == 0:\n",
    "            return 0\n",
    "        likelihood_metric += next_score\n",
    "    return likelihood_metric"
   ]
  },
  {
   "cell_type": "code",
   "execution_count": 22,
   "metadata": {},
   "outputs": [],
   "source": [
    "def most_likely_orders(cards, num_top_orders=20):\n",
    "    # top_orders = [None for i in range(num_top_orders)] #make this sorted list?\n",
    "    top_orders = {}\n",
    "    for order in permutations(range(100)):\n",
    "        likelihood_score = ordering_likelihood_faster(order, cards)\n",
    "        if likelihood_score != 0:\n",
    "            if len(top_orders.keys()) < num_top_orders:\n",
    "                top_orders[likelihood_score] = order\n",
    "            elif likelihood_score > min(top_orders.keys()):\n",
    "                top_orders.remove(min(top_orders.keys()))\n",
    "                top_orders[likelihood_score] = order\n",
    "        # Order(order, likelihood_score)\n",
    "        #add to top_orders and it will sort itself\n",
    "        #remove last item from top_orders caues it's the lowest likelihood\n",
    "    return top_orders"
   ]
  },
  {
   "cell_type": "code",
   "execution_count": 8,
   "metadata": {},
   "outputs": [],
   "source": [
    "cards = np.array([Card(i) for i in range(100)])"
   ]
  },
  {
   "cell_type": "code",
   "execution_count": null,
   "metadata": {},
   "outputs": [],
   "source": [
    "people = np.array([Person(\"bob carrothers\", mentions=[79]),\n",
    "                   Person(\"tom broom\", mentions=[85, 86, 94, 67]),\n",
    "                   Person(\"tom brown\", mentions=[77]),\n",
    "                   Person(\"billy moon\", mentions=[74]),\n",
    "                   Person(\"bill somerset\", mentions=[90]),\n",
    "                   Person(\"isabel acher\", mentions=[99]),\n",
    "                   Person(\"jimmy hales\", mentions=[51]),\n",
    "                   Person(\"calloo callay\", mentions=[71]),\n",
    "                   Person(\"agnes black\", mentions=[73]),\n",
    "                   Person(\"santa sede\", mentions=[95]),\n",
    "                   Person(\"stefanos\", mentions=[75], murderer=True),\n",
    "                   Person(\"sasha\", mentions=[75,77], murderer=True),\n",
    "                   Person(\"duncan flanders\", mentions=[13,16, 55]), #55 is maybe\n",
    "                   Person(\"alfredo catelli\", mentions=[42]),\n",
    "                   Person(\"diamond jim\", mentions=[43]),\n",
    "                   Person(\"orazio the butcher\", mentions=[75], murderer=True),\n",
    "                   Person(\"ethelbald caligula\", mentions=[52]),\n",
    "                   Person(\"peter kendrick\", mentions=[9]),\n",
    "                   Person(\"zoe green\", mentions=[71,74,28]),\n",
    "                   Person(\"eve sullivan mcqueen\", mentions=[57], murderer=True),\n",
    "                   Person(\"iris murdock\", mentions=[62]),\n",
    "                   Person(\"captain webb\", mentions=[3,11,30,54,71]),\n",
    "                   Person(\"sarah e.c. byrne\", mentions=[12]),\n",
    "                   Person(\"ermintrude clotterbuck\", mentions=[12]),\n",
    "                   Person(\"mandy\", mentions=[15, 21, 27, 56, 96]),\n",
    "                   Person(\"angie duncan\", mentions=[20, 55]),#55 is maybe\n",
    "                   Person(\"andy richards\", mentions=[24]),\n",
    "                   Person(\"tom the junkie\", mentions=[27]),\n",
    "                   Person(\"april of dunstable\", mentions=[40]),\n",
    "                   Person(\"meg\", mentions=[21, 68, 16]), #16 not by name\n",
    "                   Person(\"bailey\", mentions=[3, 53, 51, 99, 9, 53]),\n",
    "                   Person(\"stephen\", mentions=[17, 82]),\n",
    "                   Person(\"sam\", mentions=[99, 88, 10, 53, 55]), # 53 is maybe\n",
    "                   Person(\"maud\", mentions=[69], murderer=True),\n",
    "                   Person(\"person who hangs with cerberus\", mentions=[], murderer=True),\n",
    "                   Person(\"armand\", mentions=[65], murdered=True),\n",
    "                   Person(\"urquhart\", mentions=[20,85]),\n",
    "                   Person(\"horace\", mentions=[86,24,98,44,25], murdered=True),\n",
    "                   Person(\"dean\", mentions=[89, 52]),\n",
    "                   Person(\"gilbert king\", mentions=[13])\n",
    "                ])\n",
    "\n",
    "# \"hero\" used a katana - 76, guy with headwrap\n",
    "# arthur used a gun - 2\n",
    "# danny used a bottle - 43"
   ]
  },
  {
   "cell_type": "code",
   "execution_count": 9,
   "metadata": {},
   "outputs": [],
   "source": [
    "## Grammatical characteristics \n",
    "sentence_starts = [0,9,10,13,14,16,18,38,41,42,43,44,45,46,98,29,49,50,51,52]\n",
    "ambiguous = [33,47,48,18,28,93]\n",
    "for i in sentence_starts:\n",
    "    cards[i].start_type = StartType.START_OF_SENTENCE\n",
    "for i in ambiguous:\n",
    "    cards[i].start_type = StartType.AMBIGUOUS\n",
    "    \n",
    "maybe_ends_sentence = [35, 74, 96, 97, 87, 22, 46, 4, 7, 29, 49, 32, 57, 96, 14, 44]\n",
    "likely_ends_sentence = [57, 27, 31, 55, 56, 13, 98, 89, 60, 58, 48, 1, 17, 21, 27, 53, 54]\n",
    "for i in maybe_ends_sentence:\n",
    "    cards[i].end_completes_sentence = EndType.MAYBE_END\n",
    "for i in likely_ends_sentence:\n",
    "    cards[i].end_completes_sentence = EndType.LIKELY_END\n",
    "    \n",
    "poetry_likely_to_follow = [50]\n",
    "name_should_follow = []\n"
   ]
  },
  {
   "cell_type": "code",
   "execution_count": 10,
   "metadata": {},
   "outputs": [],
   "source": [
    "## Thematic characteristics in text\n",
    "poetry = [29,49,50,51,52]\n",
    "for i in poetry:\n",
    "    cards[i].poetry = True\n",
    "times = [17,51]\n",
    "for i in times:\n",
    "    cards[i].time = True\n",
    "they_them = []\n",
    "for i in poetry:\n",
    "    cards[i].they_them = True\n",
    "bible_verses = []\n",
    "for i in bible_verses:\n",
    "    cards[i].bible_verse = True\n",
    "mandy = []\n",
    "for i in mandy:\n",
    "    cards[i].mandy = True\n",
    "moles = []\n",
    "for i in moles:\n",
    "    cards[i].moles = True"
   ]
  },
  {
   "cell_type": "code",
   "execution_count": 12,
   "metadata": {},
   "outputs": [],
   "source": [
    "## Picture categories\n",
    "pic_categorization = {\n",
    "    PictureType.UNCATEGORIZED : [72],\n",
    "    PictureType.CLOCK : [10, 1, 11, 32, 37, 61, 62, 67, 28, 48], #10\n",
    "    PictureType.MAP : [2, 56, 58, 75, 78, 84, 92, 43, 49, 33], #10\n",
    "    PictureType.PERSON_W_CARD : [3, 12, 23, 57, 59, 97, 71, 69, 16, 50], #10\n",
    "    PictureType.BW_ETCHING : [4, 7, 22, 34, 53, 70, 66, 51, 17, 80], #10\n",
    "    PictureType.WHITE_LINES : [5, 55, 64, 73, 87, 83, 88, 14, 0], #9\n",
    "    PictureType.BLACK_LINES : [31, 99,  44, 8, 98, 93, 27, 60, 20, 74], #10\n",
    "    PictureType.PERSON_WEAPON : [9, 21, 19, 24, 36, 40, 90, 63, 52, 76], #10\n",
    "    PictureType.STAIN_GLASS : [54, 65, 68, 77, 81, 91, 96, 18, 41, 15], #10\n",
    "    PictureType.GALLERIE : [85, 82, 79, 95, 94, 25, 6, 13, 38, 42], #10\n",
    "    PictureType.SCULPTURE : [30, 39, 89, 26, 35, 45, 46, 29, 47, 86] #10\n",
    "}\n",
    "for pic_type, card_nums in pic_categorization.items():\n",
    "    for i in card_nums:\n",
    "        cards[i].picture_type = pic_type"
   ]
  },
  {
   "cell_type": "code",
   "execution_count": 15,
   "metadata": {},
   "outputs": [],
   "source": [
    "## Animals\n",
    "stain_glass_animal_letters = {\n",
    "    \"rhino\" : [\"o\",\"e\",\"s\"],\n",
    "    \"dog\": [\"c\",\"d\"],\n",
    "    \"wolf\": [\"b\"],\n",
    "    \"porpoise\":[\"o\"],\n",
    "    \"bull\":[\"v\"],\n",
    "    \"elephant\":[\"f\",\"a\",\"t\"],\n",
    "    \"panda\":[\"f\"],\n",
    "    \"polar bear\":[\"j\"],\n",
    "    \"ostrich\":[\"u\"],\n",
    "    \"hippo\": [\"n\"],\n",
    "    \"hawk\":[\"xyz\",\"m\"],\n",
    "    \"tapir\": [\"g\"],\n",
    "    \"kangaroo\": [\"k\"],\n",
    "    \"alligator\": [\"l\"],\n",
    "    \"bear\": [\"w\"],\n",
    "    \"swan\": [\"i\"],\n",
    "    \"boar\": [\"h\",\"r\"]\n",
    "}\n",
    "animal_mentions = {\n",
    "    \"rhino\" : [],\n",
    "    \"dog\": [],\n",
    "    \"wolf\": [65, 21],\n",
    "    \"porpoise\":[92],\n",
    "    \"bull\":[76],\n",
    "    \"elephant\":[],\n",
    "    \"panda\":[],\n",
    "    \"polar bear\":[],\n",
    "    \"ostrich\":[],\n",
    "    \"hippo\": [],\n",
    "    \"hawk\":[],\n",
    "    \"tapir\": [],\n",
    "    \"kangaroo\": [],\n",
    "    \"alligator\": [],\n",
    "    \"bear\": [53],\n",
    "    \"swan\": [],\n",
    "    \"boar\": [80]\n",
    "}"
   ]
  },
  {
   "cell_type": "code",
   "execution_count": null,
   "metadata": {},
   "outputs": [],
   "source": []
  },
  {
   "cell_type": "code",
   "execution_count": 23,
   "metadata": {},
   "outputs": [
    {
     "ename": "KeyboardInterrupt",
     "evalue": "",
     "output_type": "error",
     "traceback": [
      "\u001b[0;31m---------------------------------------------------------------------------\u001b[0m",
      "\u001b[0;31mKeyboardInterrupt\u001b[0m                         Traceback (most recent call last)",
      "Cell \u001b[0;32mIn[23], line 1\u001b[0m\n\u001b[0;32m----> 1\u001b[0m \u001b[38;5;28mprint\u001b[39m(\u001b[43mmost_likely_orders\u001b[49m\u001b[43m(\u001b[49m\u001b[43mcards\u001b[49m\u001b[43m,\u001b[49m\u001b[43m \u001b[49m\u001b[43mnum_top_orders\u001b[49m\u001b[38;5;241;43m=\u001b[39;49m\u001b[38;5;241;43m2\u001b[39;49m\u001b[43m)\u001b[49m)\n",
      "Cell \u001b[0;32mIn[22], line 6\u001b[0m, in \u001b[0;36mmost_likely_orders\u001b[0;34m(cards, num_top_orders)\u001b[0m\n\u001b[1;32m      4\u001b[0m \u001b[38;5;28;01mfor\u001b[39;00m order \u001b[38;5;129;01min\u001b[39;00m permutations(\u001b[38;5;28mrange\u001b[39m(\u001b[38;5;241m100\u001b[39m)):\n\u001b[1;32m      5\u001b[0m     likelihood_score \u001b[38;5;241m=\u001b[39m ordering_likelihood_faster(order, cards)\n\u001b[0;32m----> 6\u001b[0m     \u001b[38;5;28;01mif\u001b[39;00m \u001b[38;5;28mlen\u001b[39m(\u001b[43mtop_orders\u001b[49m\u001b[38;5;241;43m.\u001b[39;49m\u001b[43mkeys\u001b[49m\u001b[43m(\u001b[49m\u001b[43m)\u001b[49m) \u001b[38;5;241m<\u001b[39m num_top_orders:\n\u001b[1;32m      7\u001b[0m         top_orders[likelihood_score] \u001b[38;5;241m=\u001b[39m order\n\u001b[1;32m      8\u001b[0m     \u001b[38;5;28;01melif\u001b[39;00m likelihood_score \u001b[38;5;241m>\u001b[39m \u001b[38;5;28mmin\u001b[39m(top_orders\u001b[38;5;241m.\u001b[39mkeys()):\n",
      "\u001b[0;31mKeyboardInterrupt\u001b[0m: "
     ]
    }
   ],
   "source": [
    "print(most_likely_orders(cards, num_top_orders=2))"
   ]
  },
  {
   "cell_type": "code",
   "execution_count": null,
   "metadata": {},
   "outputs": [],
   "source": [
    "## Murderers with weapons\n",
    "\"\"\"\n",
    "genie/smoke/on couch; ??\n",
    "bejeweled old woman clutching man; pistol\n",
    "royal; axe\n",
    "headscarf woman; cup (poison?)\n",
    "detective; oven\n",
    "man with cat, striped red hat, scarf; arrow gun\n",
    "balding man; pistol with laser\n",
    "big nose man with suit, bow, necklace, drink; surgical tools\n",
    "headwrapped man with facial hair and bushy eyebrows; katana\n",
    "smiling/winking man; hands/stranglation\n",
    "\"\"\""
   ]
  },
  {
   "cell_type": "code",
   "execution_count": null,
   "metadata": {},
   "outputs": [],
   "source": [
    "## Gallerie (all paintings are in the Louvre)\n",
    "\"\"\"\n",
    "6: seaport at sunset by claude lorrain\n",
    "42: mona lisa by leonardo davinci\n",
    "94: francois ler, roi de france by tiziano\n",
    "13: portrait of suzanne fourment\n",
    "25: the angel leaving tobias and his family by rembrandt\n",
    "38: seaport by moonlight by claude joseph vernet\n",
    "95: landscape with shepherds and herd in a forest path by cornelis huysman\n",
    "79: venus asks vulcan to forge arms for her son aeneas by anthony van dyck\n",
    "85: landscape with diogenes by nicolas poussin\n",
    "82: christ carrying the cross by eustache le sueur\n",
    "\"\"\""
   ]
  },
  {
   "cell_type": "code",
   "execution_count": 1,
   "metadata": {},
   "outputs": [
    {
     "data": {
      "text/plain": [
       "'\\n35: Zeus or Poseidon from Artemision, 5h cent BC, in National Archaeological Museum Athens, photoshopped into library\\n46: Dendera temple of hathor, egypt, middle and right characters are switched\\n26: uranos und der tanz der gestirne, in rauch-schinkel-mueum in berlin (copy in treppenhalle des alten museums du berlin?), lat/long photoshopped on top\\n29: gallery of daily life in classical antiquity\\n'"
      ]
     },
     "execution_count": 1,
     "metadata": {},
     "output_type": "execute_result"
    }
   ],
   "source": [
    "## Statue\n",
    "# Hypothesis: pointing to murderers, if there are two then murderer killed another murderer\n",
    "\"\"\"\n",
    "35: Zeus or Poseidon from Artemision, 5h cent BC, in National Archaeological Museum Athens, photoshopped into library\n",
    "46: Dendera temple of hathor, egypt, middle and right characters are switched\n",
    "26: uranos und der tanz der gestirne, in rauch-schinkel-mueum in berlin (copy in treppenhalle des alten museums du berlin?), lat/long photoshopped on top\n",
    "29: gallery of daily life in classical antiquity\n",
    "\"\"\""
   ]
  },
  {
   "cell_type": "code",
   "execution_count": null,
   "metadata": {},
   "outputs": [],
   "source": [
    "## White lines/dates\n",
    "\"\"\"\n",
    "0: elephant sculpture; jan 4 (13)\n",
    "\n",
    "87: church, possibly or the holy sepulchre but columns don't look quite right; apr 4 (10)\n",
    "64: tiled mural at the general havelock pub in hastings; sept 4 (4)\n",
    "\n",
    "73: fontana delle anfore in rome; march 4 (8)\n",
    "5: harbor; aug 4 (5)\n",
    "88: museum/library; may 6 (6)\n",
    "\n",
    "83: old building; june 6 (8)\n",
    "14: grand central station in nyc; july 7 (7)\n",
    "55: gdansk harbor in poland; feb 5 (6)\n",
    "\"\"\""
   ]
  },
  {
   "cell_type": "code",
   "execution_count": null,
   "metadata": {},
   "outputs": [],
   "source": [
    "## People with cards equation\n"
   ]
  },
  {
   "cell_type": "code",
   "execution_count": null,
   "metadata": {},
   "outputs": [],
   "source": []
  },
  {
   "cell_type": "code",
   "execution_count": null,
   "metadata": {},
   "outputs": [],
   "source": [
    "number = 8\n",
    "less_likely_to_follow = {1, 2}\n",
    "most_likely_to_follow = {3, 4, 5, 6, 7}\n",
    "unlikely_to_follow = range(9, 40+1)\n",
    "cards[number].set_likelihood_scores(most_likely_to_follow, 2)\n",
    "cards[number].set_likelihood_scores(less_likely_to_follow, 1)\n",
    "# cards[number].push_most_likely_to_follow(most_likely_to_follow)\n",
    "# cards[number].push_less_likely_to_follow(less_likely_to_follow)"
   ]
  }
 ],
 "metadata": {
  "kernelspec": {
   "display_name": "Python 3 (ipykernel)",
   "language": "python",
   "name": "python3"
  },
  "language_info": {
   "codemirror_mode": {
    "name": "ipython",
    "version": 3
   },
   "file_extension": ".py",
   "mimetype": "text/x-python",
   "name": "python",
   "nbconvert_exporter": "python",
   "pygments_lexer": "ipython3",
   "version": "3.13.1"
  }
 },
 "nbformat": 4,
 "nbformat_minor": 4
}
